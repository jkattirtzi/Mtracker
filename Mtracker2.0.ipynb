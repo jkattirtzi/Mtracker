{
 "cells": [
  {
   "cell_type": "code",
   "execution_count": 1,
   "id": "cc0b2b1c-8127-4dbf-871f-d078e9460a2e",
   "metadata": {},
   "outputs": [],
   "source": [
    "from Mfunctions import *\n",
    "\n"
   ]
  },
  {
   "cell_type": "markdown",
   "id": "41e48c4d-6b89-4dbf-b00e-288e74695508",
   "metadata": {},
   "source": [
    "# Set up sheets"
   ]
  },
  {
   "cell_type": "code",
   "execution_count": null,
   "id": "35a2fd19-38a1-465b-82e1-c03063fd3ff4",
   "metadata": {},
   "outputs": [],
   "source": [
    "df0,df1=get_sheets()"
   ]
  },
  {
   "cell_type": "code",
   "execution_count": null,
   "id": "d2a5a636-2111-4959-888e-a5bc1060a8a6",
   "metadata": {},
   "outputs": [],
   "source": [
    "df0=clean_oldsheet(df0)\n",
    "if len(df1)==0:\n",
    "    df=df0\n",
    "else:\n",
    "    df1=clean_newsheet(df1)\n",
    "    df=df0.append(df1)"
   ]
  },
  {
   "cell_type": "code",
   "execution_count": null,
   "id": "577c8b33-6339-4a41-9f6e-2da60acf4bc4",
   "metadata": {},
   "outputs": [],
   "source": [
    "df=df.sort_values(by=['Date','Time'],ascending=False).reset_index(drop=True)"
   ]
  },
  {
   "cell_type": "code",
   "execution_count": null,
   "id": "7b8959d8-a4d9-438d-94d2-a914b851256d",
   "metadata": {},
   "outputs": [],
   "source": []
  },
  {
   "cell_type": "code",
   "execution_count": null,
   "id": "eec344de-2658-43a1-b625-dbc66c142a68",
   "metadata": {},
   "outputs": [],
   "source": []
  },
  {
   "cell_type": "code",
   "execution_count": null,
   "id": "f29d8454-e176-4b00-898a-eaa4a666aa75",
   "metadata": {},
   "outputs": [],
   "source": []
  },
  {
   "cell_type": "code",
   "execution_count": null,
   "id": "67a73f33-51d4-407d-aa88-45def57ffa50",
   "metadata": {},
   "outputs": [],
   "source": []
  },
  {
   "cell_type": "markdown",
   "id": "280d0033-abf9-44a3-a5ce-4407a809be48",
   "metadata": {},
   "source": [
    "# Marie Tracker 2.0"
   ]
  },
  {
   "cell_type": "markdown",
   "id": "d5cdb7fe-3a8c-40ce-bcdd-acaba30ca1c3",
   "metadata": {},
   "source": [
    "## Last feeding"
   ]
  },
  {
   "cell_type": "code",
   "execution_count": null,
   "id": "d56d77c7-9679-4a11-a53c-f47a8b939324",
   "metadata": {},
   "outputs": [],
   "source": [
    "df_food=df[df['Food']!='']\n",
    "last=df_food.loc[0]\n",
    "\n",
    "print (\"last feeding\" ,last['Date'], last['Time'], last['Food'], last['Quantity'])"
   ]
  },
  {
   "cell_type": "markdown",
   "id": "2d57efa1-6dbe-499c-af93-65e4fdb27357",
   "metadata": {},
   "source": [
    "# Yesterday and 3 day average"
   ]
  },
  {
   "cell_type": "markdown",
   "id": "904d9e21-88ae-4f9f-a06f-f4f51c022812",
   "metadata": {},
   "source": [
    "### Yesterday Food"
   ]
  },
  {
   "cell_type": "code",
   "execution_count": null,
   "id": "1f3725ae-6372-4b97-b315-80e4335f24ad",
   "metadata": {},
   "outputs": [],
   "source": [
    "days=df['Date'].unique()\n",
    "yesterday=days[1]\n",
    "last3days=days[1:4]\n",
    "yday=df[df['Date']==yesterday]\n",
    "l3days=df[df['Date'].isin(last3days)]\n",
    "fsum_dict=get_dayfood(yday)\n",
    "print_dict(fsum_dict)"
   ]
  },
  {
   "cell_type": "markdown",
   "id": "8100d48e-db5a-40a4-97c4-ed9f7cf2863c",
   "metadata": {},
   "source": [
    "### Three Day Average Food"
   ]
  },
  {
   "cell_type": "code",
   "execution_count": null,
   "id": "1ea66ecf-934a-49b2-bbac-26d886217132",
   "metadata": {},
   "outputs": [],
   "source": [
    "day_dict_list=[]\n",
    "for day in days[1:4]:\n",
    "    day=l3days[l3days['Date']==day]\n",
    "    day_dict=get_dayfood(day)\n",
    "    day_dict_list.append(day_dict)\n",
    "mean_3days_food=dict_mean(day_dict_list)\n",
    "print_dict(mean_3days_food)\n"
   ]
  },
  {
   "cell_type": "markdown",
   "id": "89eec5a7-1466-4d42-9fd1-63b2e6408b1f",
   "metadata": {},
   "source": [
    "### Yesterday Pee and Poop"
   ]
  },
  {
   "cell_type": "code",
   "execution_count": null,
   "id": "2a6e87dd-2f0d-44ec-9393-971d70de8d67",
   "metadata": {},
   "outputs": [],
   "source": [
    "yday_pp=yday[(yday['Pee']=='Pee')| (yday['Poop']=='Poop')]\n",
    "pp_dict=day_pp(yday_pp)\n",
    "print_dict(pp_dict)"
   ]
  },
  {
   "cell_type": "markdown",
   "id": "0e5ff8dc-0191-47a6-96c9-88950d0b7389",
   "metadata": {},
   "source": [
    "### Three Day Average Pee and Poop"
   ]
  },
  {
   "cell_type": "code",
   "execution_count": null,
   "id": "b3a99075-5e14-463d-9f87-5d33096e0b49",
   "metadata": {},
   "outputs": [],
   "source": [
    "l3days_pp=l3days[(l3days['Pee']=='Pee')| (l3days['Poop']=='Poop')]\n",
    "\n",
    "day_dict_list=[]\n",
    "for day in days[1:4]:\n",
    "    day=l3days_pp[l3days_pp['Date']==day]\n",
    "    day_dict=day_pp(day)\n",
    "    day_dict_list.append(day_dict)\n",
    "mean_3days_pp=dict_mean(day_dict_list)\n",
    "print_dict(mean_3days_pp)"
   ]
  },
  {
   "cell_type": "code",
   "execution_count": null,
   "id": "a0e1b015-d3aa-481c-82d7-fbf6c8a52fb5",
   "metadata": {},
   "outputs": [],
   "source": []
  },
  {
   "cell_type": "code",
   "execution_count": null,
   "id": "883947a5-6e99-474e-aa43-be30a45955cb",
   "metadata": {},
   "outputs": [],
   "source": []
  },
  {
   "cell_type": "code",
   "execution_count": null,
   "id": "181d4e3c-c0db-4be8-a6d7-12b6997ccccb",
   "metadata": {},
   "outputs": [],
   "source": []
  },
  {
   "cell_type": "code",
   "execution_count": null,
   "id": "f05d39ec-ae7c-400f-a3fd-47e19aafe7bd",
   "metadata": {},
   "outputs": [],
   "source": []
  },
  {
   "cell_type": "code",
   "execution_count": null,
   "id": "d65d136e-7ac7-4001-8078-4a61e785937e",
   "metadata": {},
   "outputs": [],
   "source": []
  },
  {
   "cell_type": "code",
   "execution_count": null,
   "id": "8549753d-d3eb-4eed-9775-3e7ba2ae3b37",
   "metadata": {},
   "outputs": [],
   "source": []
  },
  {
   "cell_type": "code",
   "execution_count": null,
   "id": "395faad2-4369-4a82-a9d1-988f82ce4fa9",
   "metadata": {},
   "outputs": [],
   "source": []
  },
  {
   "cell_type": "code",
   "execution_count": null,
   "id": "420dc1f8-2014-474b-a30b-65409bf8b0f7",
   "metadata": {},
   "outputs": [],
   "source": []
  },
  {
   "cell_type": "code",
   "execution_count": null,
   "id": "689e4d9e-cd1a-4998-9f2e-f27f63f2f52c",
   "metadata": {},
   "outputs": [],
   "source": []
  },
  {
   "cell_type": "code",
   "execution_count": null,
   "id": "5170b32e-b0ce-439d-8e17-5c479453cc9c",
   "metadata": {},
   "outputs": [],
   "source": []
  },
  {
   "cell_type": "code",
   "execution_count": null,
   "id": "208b9bed-353e-41bd-bf6c-c62007e985aa",
   "metadata": {},
   "outputs": [],
   "source": []
  },
  {
   "cell_type": "code",
   "execution_count": null,
   "id": "1f179418-fbf8-457f-955d-76ac16be36e6",
   "metadata": {},
   "outputs": [],
   "source": []
  },
  {
   "cell_type": "markdown",
   "id": "d8caac09-7665-4765-8fc7-a008f82026b8",
   "metadata": {},
   "source": []
  },
  {
   "cell_type": "code",
   "execution_count": null,
   "id": "76d141da-1cc0-4bb8-a85d-c4fcb825ac9c",
   "metadata": {},
   "outputs": [],
   "source": []
  },
  {
   "cell_type": "code",
   "execution_count": null,
   "id": "513e150d-3010-46a9-b9bc-26352288e2b2",
   "metadata": {},
   "outputs": [],
   "source": []
  },
  {
   "cell_type": "code",
   "execution_count": null,
   "id": "49b821e1-601e-470a-adb5-ebf75e2dbcef",
   "metadata": {},
   "outputs": [],
   "source": []
  },
  {
   "cell_type": "code",
   "execution_count": null,
   "id": "01bb1519-8de4-4c9e-9dbb-a74e26b7b684",
   "metadata": {},
   "outputs": [],
   "source": []
  },
  {
   "cell_type": "code",
   "execution_count": null,
   "id": "81a78e38-cc32-4633-afc9-9596940fc5a2",
   "metadata": {},
   "outputs": [],
   "source": []
  },
  {
   "cell_type": "code",
   "execution_count": null,
   "id": "a99fd63e-d569-4304-8b16-eabe5feb8a5e",
   "metadata": {},
   "outputs": [],
   "source": []
  }
 ],
 "metadata": {
  "kernelspec": {
   "display_name": "Python 3",
   "language": "python",
   "name": "python3"
  },
  "language_info": {
   "codemirror_mode": {
    "name": "ipython",
    "version": 3
   },
   "file_extension": ".py",
   "mimetype": "text/x-python",
   "name": "python",
   "nbconvert_exporter": "python",
   "pygments_lexer": "ipython3",
   "version": "3.9.2"
  }
 },
 "nbformat": 4,
 "nbformat_minor": 5
}
