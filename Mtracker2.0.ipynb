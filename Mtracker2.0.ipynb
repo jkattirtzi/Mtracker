{
 "cells": [
  {
   "cell_type": "code",
   "execution_count": 1,
   "id": "cc0b2b1c-8127-4dbf-871f-d078e9460a2e",
   "metadata": {},
   "outputs": [],
   "source": [
    "from Mfunctions import *\n",
    "\n"
   ]
  },
  {
   "cell_type": "markdown",
   "id": "41e48c4d-6b89-4dbf-b00e-288e74695508",
   "metadata": {},
   "source": [
    "# Set up sheets"
   ]
  },
  {
   "cell_type": "code",
   "execution_count": 2,
   "id": "7fda75a9-83fc-459b-8d01-51bf9dc50736",
   "metadata": {},
   "outputs": [],
   "source": [
    "df0,df1=get_localsheets()\n",
    "df=df0.append(df1)\n"
   ]
  },
  {
   "cell_type": "code",
   "execution_count": null,
   "id": "c953668f-497e-46a0-81f1-cc2d4c2c6668",
   "metadata": {},
   "outputs": [],
   "source": []
  },
  {
   "cell_type": "code",
   "execution_count": 3,
   "id": "35a2fd19-38a1-465b-82e1-c03063fd3ff4",
   "metadata": {},
   "outputs": [
    {
     "data": {
      "text/html": [
       "<div>\n",
       "<style scoped>\n",
       "    .dataframe tbody tr th:only-of-type {\n",
       "        vertical-align: middle;\n",
       "    }\n",
       "\n",
       "    .dataframe tbody tr th {\n",
       "        vertical-align: top;\n",
       "    }\n",
       "\n",
       "    .dataframe thead th {\n",
       "        text-align: right;\n",
       "    }\n",
       "</style>\n",
       "<table border=\"1\" class=\"dataframe\">\n",
       "  <thead>\n",
       "    <tr style=\"text-align: right;\">\n",
       "      <th></th>\n",
       "      <th>Date</th>\n",
       "      <th>Time</th>\n",
       "      <th>Pee</th>\n",
       "      <th>Poop</th>\n",
       "      <th>Food</th>\n",
       "      <th>Quantity</th>\n",
       "    </tr>\n",
       "  </thead>\n",
       "  <tbody>\n",
       "    <tr>\n",
       "      <th>0</th>\n",
       "      <td>2021-04-22</td>\n",
       "      <td>07:30:00</td>\n",
       "      <td>NaN</td>\n",
       "      <td>NaN</td>\n",
       "      <td>Breast (Pumped)</td>\n",
       "      <td>45</td>\n",
       "    </tr>\n",
       "    <tr>\n",
       "      <th>1</th>\n",
       "      <td>2021-04-22</td>\n",
       "      <td>06:00:00</td>\n",
       "      <td>Pee</td>\n",
       "      <td>NaN</td>\n",
       "      <td>Formula (Neopro Gentlease)</td>\n",
       "      <td>60</td>\n",
       "    </tr>\n",
       "    <tr>\n",
       "      <th>2</th>\n",
       "      <td>2021-04-22</td>\n",
       "      <td>03:00:00</td>\n",
       "      <td>Pee</td>\n",
       "      <td>Poop</td>\n",
       "      <td>Formula (Neopro Gentlease)</td>\n",
       "      <td>90</td>\n",
       "    </tr>\n",
       "    <tr>\n",
       "      <th>3</th>\n",
       "      <td>2021-04-22</td>\n",
       "      <td>00:20:00</td>\n",
       "      <td>NaN</td>\n",
       "      <td>NaN</td>\n",
       "      <td>Formula (Neopro Gentlease)</td>\n",
       "      <td>45</td>\n",
       "    </tr>\n",
       "    <tr>\n",
       "      <th>4</th>\n",
       "      <td>2021-04-21</td>\n",
       "      <td>23:00:00</td>\n",
       "      <td>NaN</td>\n",
       "      <td>NaN</td>\n",
       "      <td>Breast (Pumped)</td>\n",
       "      <td>30</td>\n",
       "    </tr>\n",
       "    <tr>\n",
       "      <th>...</th>\n",
       "      <td>...</td>\n",
       "      <td>...</td>\n",
       "      <td>...</td>\n",
       "      <td>...</td>\n",
       "      <td>...</td>\n",
       "      <td>...</td>\n",
       "    </tr>\n",
       "    <tr>\n",
       "      <th>303</th>\n",
       "      <td>2021-03-29</td>\n",
       "      <td>04:00:00</td>\n",
       "      <td>Pee</td>\n",
       "      <td>NaN</td>\n",
       "      <td>NaN</td>\n",
       "      <td>0</td>\n",
       "    </tr>\n",
       "    <tr>\n",
       "      <th>304</th>\n",
       "      <td>2021-03-29</td>\n",
       "      <td>03:10:00</td>\n",
       "      <td>Pee</td>\n",
       "      <td>Poop</td>\n",
       "      <td>Breast (Pumped)</td>\n",
       "      <td>25</td>\n",
       "    </tr>\n",
       "    <tr>\n",
       "      <th>305</th>\n",
       "      <td>2021-03-29</td>\n",
       "      <td>00:45:00</td>\n",
       "      <td>NaN</td>\n",
       "      <td>NaN</td>\n",
       "      <td>Breast (Pumped)</td>\n",
       "      <td>30</td>\n",
       "    </tr>\n",
       "    <tr>\n",
       "      <th>306</th>\n",
       "      <td>2021-03-29</td>\n",
       "      <td>00:00:00</td>\n",
       "      <td>Pee</td>\n",
       "      <td>NaN</td>\n",
       "      <td>NaN</td>\n",
       "      <td>0</td>\n",
       "    </tr>\n",
       "    <tr>\n",
       "      <th>307</th>\n",
       "      <td>2021-03-28</td>\n",
       "      <td>22:22:00</td>\n",
       "      <td>Pee</td>\n",
       "      <td>Poop</td>\n",
       "      <td>Breast (Pumped)</td>\n",
       "      <td>30</td>\n",
       "    </tr>\n",
       "  </tbody>\n",
       "</table>\n",
       "<p>308 rows × 6 columns</p>\n",
       "</div>"
      ],
      "text/plain": [
       "           Date      Time  Pee  Poop                        Food  Quantity\n",
       "0    2021-04-22  07:30:00  NaN   NaN             Breast (Pumped)        45\n",
       "1    2021-04-22  06:00:00  Pee   NaN  Formula (Neopro Gentlease)        60\n",
       "2    2021-04-22  03:00:00  Pee  Poop  Formula (Neopro Gentlease)        90\n",
       "3    2021-04-22  00:20:00  NaN   NaN  Formula (Neopro Gentlease)        45\n",
       "4    2021-04-21  23:00:00  NaN   NaN             Breast (Pumped)        30\n",
       "..          ...       ...  ...   ...                         ...       ...\n",
       "303  2021-03-29  04:00:00  Pee   NaN                         NaN         0\n",
       "304  2021-03-29  03:10:00  Pee  Poop             Breast (Pumped)        25\n",
       "305  2021-03-29  00:45:00  NaN   NaN             Breast (Pumped)        30\n",
       "306  2021-03-29  00:00:00  Pee   NaN                         NaN         0\n",
       "307  2021-03-28  22:22:00  Pee  Poop             Breast (Pumped)        30\n",
       "\n",
       "[308 rows x 6 columns]"
      ]
     },
     "execution_count": 3,
     "metadata": {},
     "output_type": "execute_result"
    }
   ],
   "source": [
    "df.sort_values(by=['Date', 'Time'],ascending=False).reset_index(drop=True)"
   ]
  },
  {
   "cell_type": "code",
   "execution_count": null,
   "id": "d2a5a636-2111-4959-888e-a5bc1060a8a6",
   "metadata": {},
   "outputs": [],
   "source": []
  },
  {
   "cell_type": "code",
   "execution_count": null,
   "id": "577c8b33-6339-4a41-9f6e-2da60acf4bc4",
   "metadata": {},
   "outputs": [],
   "source": []
  },
  {
   "cell_type": "code",
   "execution_count": null,
   "id": "7b8959d8-a4d9-438d-94d2-a914b851256d",
   "metadata": {},
   "outputs": [],
   "source": []
  },
  {
   "cell_type": "code",
   "execution_count": null,
   "id": "eec344de-2658-43a1-b625-dbc66c142a68",
   "metadata": {},
   "outputs": [],
   "source": [
    "\n",
    "\n",
    "\n"
   ]
  },
  {
   "cell_type": "code",
   "execution_count": null,
   "id": "86dcf783-d57a-421d-994a-ceabc81e755b",
   "metadata": {},
   "outputs": [],
   "source": []
  },
  {
   "cell_type": "code",
   "execution_count": null,
   "id": "a0b12fbb-79a6-40fd-a223-f57d964b06ed",
   "metadata": {},
   "outputs": [],
   "source": []
  },
  {
   "cell_type": "code",
   "execution_count": null,
   "id": "0363414e-1647-40c3-9dd9-ad4ebc926b1b",
   "metadata": {},
   "outputs": [],
   "source": [
    "\n"
   ]
  },
  {
   "cell_type": "code",
   "execution_count": null,
   "id": "458552fc-5425-4fd6-b536-d8aa0b8b5ba6",
   "metadata": {},
   "outputs": [],
   "source": []
  },
  {
   "cell_type": "code",
   "execution_count": null,
   "id": "02bd45a4-e337-462e-a167-8ebd83d68fba",
   "metadata": {},
   "outputs": [],
   "source": []
  },
  {
   "cell_type": "code",
   "execution_count": null,
   "id": "041df010-a58d-4fef-94ec-8fdf6ef97f59",
   "metadata": {},
   "outputs": [],
   "source": [
    "\n"
   ]
  },
  {
   "cell_type": "code",
   "execution_count": null,
   "id": "f29d8454-e176-4b00-898a-eaa4a666aa75",
   "metadata": {},
   "outputs": [],
   "source": []
  },
  {
   "cell_type": "code",
   "execution_count": null,
   "id": "67a73f33-51d4-407d-aa88-45def57ffa50",
   "metadata": {},
   "outputs": [],
   "source": []
  },
  {
   "cell_type": "markdown",
   "id": "280d0033-abf9-44a3-a5ce-4407a809be48",
   "metadata": {},
   "source": [
    "# Marie Tracker 2.0"
   ]
  },
  {
   "cell_type": "markdown",
   "id": "d5cdb7fe-3a8c-40ce-bcdd-acaba30ca1c3",
   "metadata": {},
   "source": [
    "## Last feeding"
   ]
  },
  {
   "cell_type": "code",
   "execution_count": 4,
   "id": "d56d77c7-9679-4a11-a53c-f47a8b939324",
   "metadata": {},
   "outputs": [
    {
     "name": "stdout",
     "output_type": "stream",
     "text": [
      "last feeding 0    2021-03-28\n",
      "0    2021-04-21\n",
      "Name: Date, dtype: object 0    22:22:00\n",
      "0    14:00:00\n",
      "Name: Time, dtype: object 0    Breast (Pumped)\n",
      "0    Breast (Pumped)\n",
      "Name: Food, dtype: object 0    30\n",
      "0    40\n",
      "Name: Quantity, dtype: int64\n"
     ]
    }
   ],
   "source": [
    "df_food=df[df['Food']!='']\n",
    "last=df_food.loc[0]\n",
    "\n",
    "print (\"last feeding\" ,last['Date'], last['Time'], last['Food'], last['Quantity'])"
   ]
  },
  {
   "cell_type": "markdown",
   "id": "2d57efa1-6dbe-499c-af93-65e4fdb27357",
   "metadata": {},
   "source": [
    "# Yesterday and 3 day average"
   ]
  },
  {
   "cell_type": "markdown",
   "id": "904d9e21-88ae-4f9f-a06f-f4f51c022812",
   "metadata": {},
   "source": [
    "### Yesterday Food"
   ]
  },
  {
   "cell_type": "code",
   "execution_count": 5,
   "id": "1f3725ae-6372-4b97-b315-80e4335f24ad",
   "metadata": {},
   "outputs": [
    {
     "name": "stderr",
     "output_type": "stream",
     "text": [
      "2021-04-22 10:21:36.999 WARNING root: \n",
      "  \u001b[33m\u001b[1mWarning:\u001b[0m to view this Streamlit app on a browser, run it with the following\n",
      "  command:\n",
      "\n",
      "    streamlit run /anaconda3/envs/slit/lib/python3.9/site-packages/ipykernel_launcher.py [ARGUMENTS]\n"
     ]
    }
   ],
   "source": [
    "days=df['Date'].unique()\n",
    "yesterday=days[1]\n",
    "last3days=days[1:4]\n",
    "yday=df[df['Date']==yesterday]\n",
    "l3days=df[df['Date'].isin(last3days)]\n",
    "fsum_dict=get_dayfood(yday)\n",
    "print_dict(fsum_dict)"
   ]
  },
  {
   "cell_type": "code",
   "execution_count": 6,
   "id": "a928afde-d6cc-4a35-81f8-1e1c9f99174e",
   "metadata": {},
   "outputs": [
    {
     "data": {
      "text/plain": [
       "array([datetime.date(2021, 3, 28), datetime.date(2021, 3, 29),\n",
       "       datetime.date(2021, 3, 30), datetime.date(2021, 3, 31),\n",
       "       datetime.date(2021, 4, 1), datetime.date(2021, 4, 2),\n",
       "       datetime.date(2021, 4, 3), datetime.date(2021, 4, 4),\n",
       "       datetime.date(2021, 4, 5), datetime.date(2021, 4, 6),\n",
       "       datetime.date(2021, 4, 7), datetime.date(2021, 4, 8),\n",
       "       datetime.date(2021, 4, 9), datetime.date(2021, 4, 10),\n",
       "       datetime.date(2021, 4, 11), datetime.date(2021, 4, 12),\n",
       "       datetime.date(2021, 4, 13), datetime.date(2021, 4, 14),\n",
       "       datetime.date(2021, 4, 15), datetime.date(2021, 4, 16),\n",
       "       datetime.date(2021, 4, 17), datetime.date(2021, 4, 18),\n",
       "       datetime.date(2021, 4, 19), datetime.date(2021, 4, 20),\n",
       "       datetime.date(2021, 4, 21), datetime.date(2021, 4, 22)],\n",
       "      dtype=object)"
      ]
     },
     "execution_count": 6,
     "metadata": {},
     "output_type": "execute_result"
    }
   ],
   "source": [
    "df['Date'].unique()"
   ]
  },
  {
   "cell_type": "markdown",
   "id": "8100d48e-db5a-40a4-97c4-ed9f7cf2863c",
   "metadata": {},
   "source": [
    "### Three Day Average Food"
   ]
  },
  {
   "cell_type": "code",
   "execution_count": 7,
   "id": "1ea66ecf-934a-49b2-bbac-26d886217132",
   "metadata": {},
   "outputs": [],
   "source": [
    "day_dict_list=[]\n",
    "for day in days[1:4]:\n",
    "    day=l3days[l3days['Date']==day]\n",
    "    day_dict=get_dayfood(day)\n",
    "    day_dict_list.append(day_dict)\n",
    "mean_3days_food=dict_mean(day_dict_list)\n",
    "print_dict(mean_3days_food)\n"
   ]
  },
  {
   "cell_type": "markdown",
   "id": "89eec5a7-1466-4d42-9fd1-63b2e6408b1f",
   "metadata": {},
   "source": [
    "### Yesterday Pee and Poop"
   ]
  },
  {
   "cell_type": "code",
   "execution_count": 8,
   "id": "2a6e87dd-2f0d-44ec-9393-971d70de8d67",
   "metadata": {},
   "outputs": [],
   "source": [
    "yday_pp=yday[(yday['Pee']=='Pee')| (yday['Poop']=='Poop')]\n",
    "pp_dict=day_pp(yday_pp)\n",
    "print_dict(pp_dict)"
   ]
  },
  {
   "cell_type": "markdown",
   "id": "0e5ff8dc-0191-47a6-96c9-88950d0b7389",
   "metadata": {},
   "source": [
    "### Three Day Average Pee and Poop"
   ]
  },
  {
   "cell_type": "code",
   "execution_count": 9,
   "id": "b3a99075-5e14-463d-9f87-5d33096e0b49",
   "metadata": {},
   "outputs": [],
   "source": [
    "l3days_pp=l3days[(l3days['Pee']=='Pee')| (l3days['Poop']=='Poop')]\n",
    "\n",
    "day_dict_list=[]\n",
    "for day in days[1:4]:\n",
    "    day=l3days_pp[l3days_pp['Date']==day]\n",
    "    day_dict=day_pp(day)\n",
    "    day_dict_list.append(day_dict)\n",
    "mean_3days_pp=dict_mean(day_dict_list)\n",
    "print_dict(mean_3days_pp)"
   ]
  },
  {
   "cell_type": "code",
   "execution_count": null,
   "id": "a0e1b015-d3aa-481c-82d7-fbf6c8a52fb5",
   "metadata": {},
   "outputs": [],
   "source": []
  },
  {
   "cell_type": "code",
   "execution_count": null,
   "id": "883947a5-6e99-474e-aa43-be30a45955cb",
   "metadata": {},
   "outputs": [],
   "source": []
  },
  {
   "cell_type": "code",
   "execution_count": null,
   "id": "181d4e3c-c0db-4be8-a6d7-12b6997ccccb",
   "metadata": {},
   "outputs": [],
   "source": []
  },
  {
   "cell_type": "code",
   "execution_count": null,
   "id": "f05d39ec-ae7c-400f-a3fd-47e19aafe7bd",
   "metadata": {},
   "outputs": [],
   "source": []
  },
  {
   "cell_type": "code",
   "execution_count": null,
   "id": "d65d136e-7ac7-4001-8078-4a61e785937e",
   "metadata": {},
   "outputs": [],
   "source": []
  },
  {
   "cell_type": "code",
   "execution_count": null,
   "id": "8549753d-d3eb-4eed-9775-3e7ba2ae3b37",
   "metadata": {},
   "outputs": [],
   "source": []
  },
  {
   "cell_type": "code",
   "execution_count": null,
   "id": "395faad2-4369-4a82-a9d1-988f82ce4fa9",
   "metadata": {},
   "outputs": [],
   "source": []
  },
  {
   "cell_type": "code",
   "execution_count": null,
   "id": "420dc1f8-2014-474b-a30b-65409bf8b0f7",
   "metadata": {},
   "outputs": [],
   "source": []
  },
  {
   "cell_type": "code",
   "execution_count": null,
   "id": "689e4d9e-cd1a-4998-9f2e-f27f63f2f52c",
   "metadata": {},
   "outputs": [],
   "source": []
  },
  {
   "cell_type": "code",
   "execution_count": null,
   "id": "5170b32e-b0ce-439d-8e17-5c479453cc9c",
   "metadata": {},
   "outputs": [],
   "source": []
  },
  {
   "cell_type": "code",
   "execution_count": null,
   "id": "208b9bed-353e-41bd-bf6c-c62007e985aa",
   "metadata": {},
   "outputs": [],
   "source": []
  },
  {
   "cell_type": "code",
   "execution_count": null,
   "id": "1f179418-fbf8-457f-955d-76ac16be36e6",
   "metadata": {},
   "outputs": [],
   "source": []
  },
  {
   "cell_type": "markdown",
   "id": "d8caac09-7665-4765-8fc7-a008f82026b8",
   "metadata": {},
   "source": []
  },
  {
   "cell_type": "code",
   "execution_count": null,
   "id": "76d141da-1cc0-4bb8-a85d-c4fcb825ac9c",
   "metadata": {},
   "outputs": [],
   "source": []
  },
  {
   "cell_type": "code",
   "execution_count": null,
   "id": "513e150d-3010-46a9-b9bc-26352288e2b2",
   "metadata": {},
   "outputs": [],
   "source": []
  },
  {
   "cell_type": "code",
   "execution_count": null,
   "id": "49b821e1-601e-470a-adb5-ebf75e2dbcef",
   "metadata": {},
   "outputs": [],
   "source": []
  },
  {
   "cell_type": "code",
   "execution_count": null,
   "id": "01bb1519-8de4-4c9e-9dbb-a74e26b7b684",
   "metadata": {},
   "outputs": [],
   "source": []
  },
  {
   "cell_type": "code",
   "execution_count": null,
   "id": "81a78e38-cc32-4633-afc9-9596940fc5a2",
   "metadata": {},
   "outputs": [],
   "source": []
  },
  {
   "cell_type": "code",
   "execution_count": null,
   "id": "a99fd63e-d569-4304-8b16-eabe5feb8a5e",
   "metadata": {},
   "outputs": [],
   "source": []
  }
 ],
 "metadata": {
  "kernelspec": {
   "display_name": "Python 3",
   "language": "python",
   "name": "python3"
  },
  "language_info": {
   "codemirror_mode": {
    "name": "ipython",
    "version": 3
   },
   "file_extension": ".py",
   "mimetype": "text/x-python",
   "name": "python",
   "nbconvert_exporter": "python",
   "pygments_lexer": "ipython3",
   "version": "3.9.2"
  }
 },
 "nbformat": 4,
 "nbformat_minor": 5
}
